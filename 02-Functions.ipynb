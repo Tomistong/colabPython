{
  "cells": [
    {
      "cell_type": "code",
      "source": [
        "import math"
      ],
      "metadata": {
        "id": "0cWeWEws0VBL"
      },
      "execution_count": 3,
      "outputs": []
    },
    {
      "cell_type": "code",
      "source": [
        "def is_prime1(num):\n",
        "    \"\"\"判断一个数是不是素数\"\"\"\n",
        "    for factor in range(2, int(math.sqrt(num) + 1)):\n",
        "        if num % factor == 0:\n",
        "            return False\n",
        "    return True if num != 1 else False"
      ],
      "metadata": {
        "id": "vKNGQoMFz8sq"
      },
      "execution_count": 11,
      "outputs": []
    },
    {
      "cell_type": "code",
      "source": [
        "is_prime1(1971)"
      ],
      "metadata": {
        "id": "l4SZDUkJ0FDD",
        "outputId": "4d9d437a-9c2f-4660-83a9-edf4e9f3b20e",
        "colab": {
          "base_uri": "https://localhost:8080/"
        }
      },
      "execution_count": 13,
      "outputs": [
        {
          "output_type": "execute_result",
          "data": {
            "text/plain": [
              "False"
            ]
          },
          "metadata": {},
          "execution_count": 13
        }
      ]
    },
    {
      "cell_type": "code",
      "source": [
        "def is_palindrome1(num):\n",
        "    \"\"\"判断一个数是不是回文数\"\"\"\n",
        "    temp = num\n",
        "    total = 0\n",
        "    while temp > 0:\n",
        "        total = total * 10 + temp % 10\n",
        "        temp //= 10\n",
        "    return total == num"
      ],
      "metadata": {
        "id": "4aC7Z5T_0sdq"
      },
      "execution_count": 18,
      "outputs": []
    },
    {
      "cell_type": "code",
      "source": [
        "#if __name__ == '__main__':\n",
        "    num = int(input('请输入正整数: '))\n",
        "    if is_palindrome(num) and is_prime(num):\n",
        "        print('%d是回文素数' % num)"
      ],
      "metadata": {
        "id": "8WI84UNd1fi7",
        "outputId": "c75909df-f983-4276-f0d7-106c23b05292",
        "colab": {
          "base_uri": "https://localhost:8080/",
          "height": 132
        }
      },
      "execution_count": 23,
      "outputs": [
        {
          "output_type": "error",
          "ename": "IndentationError",
          "evalue": "ignored",
          "traceback": [
            "\u001b[0;36m  File \u001b[0;32m\"<ipython-input-23-070f4edc1307>\"\u001b[0;36m, line \u001b[0;32m2\u001b[0m\n\u001b[0;31m    num = int(input('请输入正整数: '))\u001b[0m\n\u001b[0m    ^\u001b[0m\n\u001b[0;31mIndentationError\u001b[0m\u001b[0;31m:\u001b[0m unexpected indent\n"
          ]
        }
      ]
    },
    {
      "cell_type": "code",
      "source": [
        "num = int(input('请输入正整数: '))\n",
        "if is_palindrome(num) and is_prime(num):\n",
        "  print('%d是回文素数' % num)\n",
        "else:\n",
        "  print('no')"
      ],
      "metadata": {
        "id": "84YV06C82AfO",
        "outputId": "04a21f0d-cd63-4fdc-9ca5-26c93e38c86a",
        "colab": {
          "base_uri": "https://localhost:8080/"
        }
      },
      "execution_count": 26,
      "outputs": [
        {
          "output_type": "stream",
          "name": "stdout",
          "text": [
            "请输入正整数: 121\n",
            "no\n"
          ]
        }
      ]
    },
    {
      "cell_type": "markdown",
      "metadata": {
        "id": "0TtK5_T0zz8A"
      },
      "source": [
        "# Functions\n",
        "\n",
        "## Introduction to Functions\n",
        "\n",
        "This lecture will consist of explaining what a function is in Python and how to create one. Functions will be one of our main building blocks when we construct larger and larger amounts of code to solve problems.\n",
        "\n",
        "**So what is a function?**\n",
        "\n",
        "Formally, a function is a useful device that groups together a set of statements so they can be run more than once. They can also let us specify parameters that can serve as inputs to the functions.\n",
        "\n",
        "On a more fundamental level, functions allow us to not have to repeatedly write the same code again and again. If you remember back to the lessons on strings and lists, remember that we used a function len() to get the length of a string. Since checking the length of a sequence is a common task you would want to write a function that can do this repeatedly at command.\n",
        "\n",
        "Functions will be one of most basic levels of reusing code in Python, and it will also allow us to start thinking of program design (we will dive much deeper into the ideas of design when we learn about Object Oriented Programming)."
      ]
    },
    {
      "cell_type": "code",
      "source": [
        ""
      ],
      "metadata": {
        "id": "T80UFbn40CAa"
      },
      "execution_count": null,
      "outputs": []
    },
    {
      "cell_type": "markdown",
      "metadata": {
        "id": "ceKJHGwvzz8D"
      },
      "source": [
        "## def Statements\n",
        "\n",
        "Let's see how to build out a function's syntax in Python. It has the following form:"
      ]
    },
    {
      "cell_type": "code",
      "execution_count": null,
      "metadata": {
        "id": "gq06h7Pizz8E"
      },
      "outputs": [],
      "source": [
        "def name_of_function(arg1,arg2):\n",
        "    '''\n",
        "    This is where the function's Document String (docstring) goes\n",
        "    '''\n",
        "    # Do stuff here\n",
        "    # Return desired result"
      ]
    },
    {
      "cell_type": "markdown",
      "metadata": {
        "id": "lyPJkK8fzz8F"
      },
      "source": [
        "We begin with <code>def</code> then a space followed by the name of the function. Try to keep names relevant, for example len() is a good name for a length() function. Also be careful with names, you wouldn't want to call a function the same name as a [built-in function in Python](https://docs.python.org/2/library/functions.html) (such as len).\n",
        "\n",
        "Next come a pair of parentheses with a number of arguments separated by a comma. These arguments are the inputs for your function. You'll be able to use these inputs in your function and reference them. After this you put a colon.\n",
        "\n",
        "Now here is the important step, you must indent to begin the code inside your function correctly. Python makes use of *whitespace* to organize code. Lots of other programing languages do not do this, so keep that in mind.\n",
        "\n",
        "Next you'll see the docstring, this is where you write a basic description of the function. Using iPython and iPython Notebooks, you'll be able to read these docstrings by pressing Shift+Tab after a function name. Docstrings are not necessary for simple functions, but it's good practice to put them in so you or other people can easily understand the code you write.\n",
        "\n",
        "After all this you begin writing the code you wish to execute.\n",
        "\n",
        "The best way to learn functions is by going through examples. So let's try to go through examples that relate back to the various objects and data structures we learned about before."
      ]
    },
    {
      "cell_type": "markdown",
      "metadata": {
        "id": "If3PwSO_zz8G"
      },
      "source": [
        "### Example 1: A simple print 'hello' function"
      ]
    },
    {
      "cell_type": "code",
      "execution_count": null,
      "metadata": {
        "id": "oGgXzwphzz8G"
      },
      "outputs": [],
      "source": [
        "def say_hello():\n",
        "    print('hello')"
      ]
    },
    {
      "cell_type": "markdown",
      "metadata": {
        "id": "RXFJLF17zz8G"
      },
      "source": [
        "Call the function:"
      ]
    },
    {
      "cell_type": "code",
      "execution_count": null,
      "metadata": {
        "id": "r0ZHXuUszz8H",
        "outputId": "37d5c4a2-1505-4431-e8b9-0701b928bf32"
      },
      "outputs": [
        {
          "name": "stdout",
          "output_type": "stream",
          "text": [
            "hello\n"
          ]
        }
      ],
      "source": [
        "say_hello()"
      ]
    },
    {
      "cell_type": "markdown",
      "metadata": {
        "id": "W-rm7QD1zz8H"
      },
      "source": [
        "### Example 2: A simple greeting function\n",
        "Let's write a function that greets people with their name."
      ]
    },
    {
      "cell_type": "code",
      "execution_count": null,
      "metadata": {
        "id": "7sfPFKS7zz8I"
      },
      "outputs": [],
      "source": [
        "def greeting(name):\n",
        "    print('Hello %s' %(name))"
      ]
    },
    {
      "cell_type": "code",
      "execution_count": null,
      "metadata": {
        "id": "E1YZ2Y1Qzz8I",
        "outputId": "7a844e2b-71e9-45f4-ea5c-a61b51b9470c"
      },
      "outputs": [
        {
          "name": "stdout",
          "output_type": "stream",
          "text": [
            "Hello Jose\n"
          ]
        }
      ],
      "source": [
        "greeting('Jose')"
      ]
    },
    {
      "cell_type": "markdown",
      "metadata": {
        "id": "23oPVTECzz8J"
      },
      "source": [
        "## Using return\n",
        "Let's see some example that use a <code>return</code> statement. <code>return</code> allows a function to *return* a result that can then be stored as a variable, or used in whatever manner a user wants.\n",
        "\n",
        "### Example 3: Addition function"
      ]
    },
    {
      "cell_type": "code",
      "execution_count": null,
      "metadata": {
        "id": "i0qm4nfjzz8J"
      },
      "outputs": [],
      "source": [
        "def add_num(num1,num2):\n",
        "    return num1+num2"
      ]
    },
    {
      "cell_type": "code",
      "execution_count": null,
      "metadata": {
        "id": "XrjHgky7zz8J",
        "outputId": "4e112991-f93d-44b2-e0eb-4de141b17fc9"
      },
      "outputs": [
        {
          "data": {
            "text/plain": [
              "9"
            ]
          },
          "execution_count": 7,
          "metadata": {},
          "output_type": "execute_result"
        }
      ],
      "source": [
        "add_num(4,5)"
      ]
    },
    {
      "cell_type": "code",
      "execution_count": null,
      "metadata": {
        "id": "K9nEb063zz8K"
      },
      "outputs": [],
      "source": [
        "# Can also save as variable due to return\n",
        "result = add_num(4,5)"
      ]
    },
    {
      "cell_type": "code",
      "execution_count": null,
      "metadata": {
        "id": "0nFI7bx5zz8K",
        "outputId": "f935ed12-5f6c-4b30-b24b-0c8f21e6415a"
      },
      "outputs": [
        {
          "name": "stdout",
          "output_type": "stream",
          "text": [
            "9\n"
          ]
        }
      ],
      "source": [
        "print(result)"
      ]
    },
    {
      "cell_type": "markdown",
      "metadata": {
        "id": "Mhirivx-zz8K"
      },
      "source": [
        "What happens if we input two strings?"
      ]
    },
    {
      "cell_type": "code",
      "execution_count": null,
      "metadata": {
        "id": "UwTlj_w5zz8K",
        "outputId": "b2a9addd-8957-43e9-b6a9-94a4739473b5"
      },
      "outputs": [
        {
          "data": {
            "text/plain": [
              "'onetwo'"
            ]
          },
          "execution_count": 10,
          "metadata": {},
          "output_type": "execute_result"
        }
      ],
      "source": [
        "add_num('one','two')"
      ]
    },
    {
      "cell_type": "markdown",
      "metadata": {
        "id": "AI7xoAkjzz8K"
      },
      "source": [
        "Note that because we don't declare variable types in Python, this function could be used to add numbers or sequences together! We'll later learn about adding in checks to make sure a user puts in the correct arguments into a function.\n",
        "\n",
        "Let's also start using <code>break</code>, <code>continue</code>, and <code>pass</code> statements in our code. We introduced these during the <code>while</code> lecture."
      ]
    },
    {
      "cell_type": "markdown",
      "metadata": {
        "collapsed": true,
        "id": "Gh2IAqCrzz8L"
      },
      "source": [
        "Finally let's go over a full example of creating a function to check if a number is prime (a common interview exercise).\n",
        "\n",
        "We know a number is prime if that number is only evenly divisible by 1 and itself. Let's write our first version of the function to check all the numbers from 1 to N and perform modulo checks."
      ]
    },
    {
      "cell_type": "code",
      "execution_count": null,
      "metadata": {
        "id": "zDwWhL8mzz8L"
      },
      "outputs": [],
      "source": [
        "def is_prime(num):\n",
        "    '''\n",
        "    Naive method of checking for primes. \n",
        "    '''\n",
        "    for n in range(2,num):\n",
        "        if num % n == 0:\n",
        "            print(num,'is not prime')\n",
        "            break\n",
        "    else: # If never mod zero, then prime\n",
        "        print(num,'is prime!')"
      ]
    },
    {
      "cell_type": "code",
      "execution_count": null,
      "metadata": {
        "id": "E-1p39_vzz8L",
        "outputId": "20fe0f07-7367-4897-c7c4-47974f988856"
      },
      "outputs": [
        {
          "name": "stdout",
          "output_type": "stream",
          "text": [
            "16 is not prime\n"
          ]
        }
      ],
      "source": [
        "is_prime(16)"
      ]
    },
    {
      "cell_type": "code",
      "execution_count": null,
      "metadata": {
        "id": "8A4FQTqGzz8L",
        "outputId": "0287acbf-cf10-4848-efe4-f55246e7ae8c"
      },
      "outputs": [
        {
          "name": "stdout",
          "output_type": "stream",
          "text": [
            "17 is prime!\n"
          ]
        }
      ],
      "source": [
        "is_prime(17)"
      ]
    },
    {
      "cell_type": "markdown",
      "metadata": {
        "id": "lQX2E924zz8L"
      },
      "source": [
        "Note how the <code>else</code> lines up under <code>for</code> and not <code>if</code>. This is because we want the <code>for</code> loop to exhaust all possibilities in the range before printing our number is prime.\n",
        "\n",
        "Also note how we break the code after the first print statement. As soon as we determine that a number is not prime we break out of the <code>for</code> loop.\n",
        "\n",
        "We can actually improve this function by only checking to the square root of the target number, and by disregarding all even numbers after checking for 2. We'll also switch to returning a boolean value to get an example of using return statements:"
      ]
    },
    {
      "cell_type": "code",
      "execution_count": null,
      "metadata": {
        "id": "UCucKaEYzz8M"
      },
      "outputs": [],
      "source": [
        "import math\n",
        "\n",
        "def is_prime2(num):\n",
        "    '''\n",
        "    Better method of checking for primes. \n",
        "    '''\n",
        "    if num % 2 == 0 and num > 2: \n",
        "        return False\n",
        "    for i in range(3, int(math.sqrt(num)) + 1, 2):\n",
        "        if num % i == 0:\n",
        "            return False\n",
        "    return True"
      ]
    },
    {
      "cell_type": "code",
      "execution_count": null,
      "metadata": {
        "id": "dvyKoTIRzz8M",
        "outputId": "9b9c66aa-897c-4767-e988-1b46c38a53dc"
      },
      "outputs": [
        {
          "data": {
            "text/plain": [
              "False"
            ]
          },
          "execution_count": 15,
          "metadata": {},
          "output_type": "execute_result"
        }
      ],
      "source": [
        "is_prime2(18)"
      ]
    },
    {
      "cell_type": "markdown",
      "metadata": {
        "id": "jCmgoPaSzz8M"
      },
      "source": [
        "Why don't we have any <code>break</code> statements? It should be noted that as soon as a function *returns* something, it shuts down. A function can deliver multiple print statements, but it will only obey one <code>return</code>."
      ]
    },
    {
      "cell_type": "markdown",
      "metadata": {
        "id": "3ZA0VuO-zz8M"
      },
      "source": [
        "Great! You should now have a basic understanding of creating your own functions to save yourself from repeatedly writing code!"
      ]
    }
  ],
  "metadata": {
    "kernelspec": {
      "display_name": "Python 3",
      "language": "python",
      "name": "python3"
    },
    "language_info": {
      "codemirror_mode": {
        "name": "ipython",
        "version": 3
      },
      "file_extension": ".py",
      "mimetype": "text/x-python",
      "name": "python",
      "nbconvert_exporter": "python",
      "pygments_lexer": "ipython3",
      "version": "3.7.3"
    },
    "colab": {
      "name": "02-Functions.ipynb",
      "provenance": []
    }
  },
  "nbformat": 4,
  "nbformat_minor": 0
}