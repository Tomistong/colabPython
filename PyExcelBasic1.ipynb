{
  "nbformat": 4,
  "nbformat_minor": 0,
  "metadata": {
    "colab": {
      "name": "PyExcelBasic1.ipynb",
      "provenance": [],
      "authorship_tag": "ABX9TyPT/jZWKPvuDvAJuBCWazPG",
      "include_colab_link": true
    },
    "kernelspec": {
      "name": "python3",
      "display_name": "Python 3"
    },
    "language_info": {
      "name": "python"
    }
  },
  "cells": [
    {
      "cell_type": "markdown",
      "metadata": {
        "id": "view-in-github",
        "colab_type": "text"
      },
      "source": [
        "<a href=\"https://colab.research.google.com/github/Tomistong/colabPython/blob/main/PyExcelBasic1.ipynb\" target=\"_parent\"><img src=\"https://colab.research.google.com/assets/colab-badge.svg\" alt=\"Open In Colab\"/></a>"
      ]
    },
    {
      "cell_type": "code",
      "execution_count": 10,
      "metadata": {
        "id": "-4jtBZ3kxVWS"
      },
      "outputs": [],
      "source": [
        "#復習 for quict to learn"
      ]
    },
    {
      "cell_type": "code",
      "source": [
        "\"a,b,c\".split(\",\")#that is string with \",\"split"
      ],
      "metadata": {
        "colab": {
          "base_uri": "https://localhost:8080/"
        },
        "id": "iON7mVbCx_LI",
        "outputId": "d1fb1709-ecc4-405b-ac07-73bd831868dd"
      },
      "execution_count": 2,
      "outputs": [
        {
          "output_type": "execute_result",
          "data": {
            "text/plain": [
              "['a', 'b', 'c']"
            ]
          },
          "metadata": {},
          "execution_count": 2
        }
      ]
    },
    {
      "cell_type": "code",
      "source": [
        "\"a|b|c\".split(\"|\")#that is string with \"|\"split"
      ],
      "metadata": {
        "colab": {
          "base_uri": "https://localhost:8080/"
        },
        "id": "rLqY0QQqyLvR",
        "outputId": "f433bbb9-689f-4dcd-c687-40279409a1a0"
      },
      "execution_count": 3,
      "outputs": [
        {
          "output_type": "execute_result",
          "data": {
            "text/plain": [
              "['a', 'b', 'c']"
            ]
          },
          "metadata": {},
          "execution_count": 3
        }
      ]
    },
    {
      "cell_type": "code",
      "source": [
        "#和splict相反的是join==>some string with split sy to conntect"
      ],
      "metadata": {
        "id": "q4SClFDVygCn"
      },
      "execution_count": 5,
      "outputs": []
    },
    {
      "cell_type": "code",
      "source": [
        "#help(join) How to use it?"
      ],
      "metadata": {
        "id": "esmF3a_Uy1nI"
      },
      "execution_count": 9,
      "outputs": []
    },
    {
      "cell_type": "markdown",
      "source": [
        "some operate about string"
      ],
      "metadata": {
        "id": "WoFJUHkjzT3P"
      }
    },
    {
      "cell_type": "code",
      "source": [
        "#in len() + not in a[0] a[1:3] "
      ],
      "metadata": {
        "id": "sQQJ9U9P0KXP"
      },
      "execution_count": 11,
      "outputs": []
    },
    {
      "cell_type": "code",
      "source": [
        "\"AabcA\".strip('A') #del or to say strip 'A'"
      ],
      "metadata": {
        "colab": {
          "base_uri": "https://localhost:8080/",
          "height": 36
        },
        "id": "yiipA8PN1mSH",
        "outputId": "9777290c-76d7-4d35-8e78-431ac1c032ef"
      },
      "execution_count": 12,
      "outputs": [
        {
          "output_type": "execute_result",
          "data": {
            "application/vnd.google.colaboratory.intrinsic+json": {
              "type": "string"
            },
            "text/plain": [
              "'abc'"
            ]
          },
          "metadata": {},
          "execution_count": 12
        }
      ]
    },
    {
      "cell_type": "code",
      "source": [
        "#list ==>pop() sort() append()..."
      ],
      "metadata": {
        "id": "967AenPL1zKp"
      },
      "execution_count": 13,
      "outputs": []
    },
    {
      "cell_type": "code",
      "source": [
        "#dict key() values() items() in c++ look like hasptable"
      ],
      "metadata": {
        "id": "9-s2xQi62XvP"
      },
      "execution_count": 14,
      "outputs": []
    },
    {
      "cell_type": "code",
      "source": [
        "#items ==>look like --->(key:values)"
      ],
      "metadata": {
        "id": "gsF163hb2-6f"
      },
      "execution_count": 15,
      "outputs": []
    },
    {
      "cell_type": "code",
      "source": [
        ""
      ],
      "metadata": {
        "id": "9la_CO4f3Svo"
      },
      "execution_count": null,
      "outputs": []
    }
  ]
}