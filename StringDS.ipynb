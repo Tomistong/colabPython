{
  "nbformat": 4,
  "nbformat_minor": 0,
  "metadata": {
    "colab": {
      "name": "StringDS.ipynb",
      "provenance": [],
      "authorship_tag": "ABX9TyMLhNOozo9JpmQKEFNHY/DW",
      "include_colab_link": true
    },
    "kernelspec": {
      "name": "python3",
      "display_name": "Python 3"
    },
    "language_info": {
      "name": "python"
    }
  },
  "cells": [
    {
      "cell_type": "markdown",
      "metadata": {
        "id": "view-in-github",
        "colab_type": "text"
      },
      "source": [
        "<a href=\"https://colab.research.google.com/github/Tomistong/colabPython/blob/main/StringDS.ipynb\" target=\"_parent\"><img src=\"https://colab.research.google.com/assets/colab-badge.svg\" alt=\"Open In Colab\"/></a>"
      ]
    },
    {
      "cell_type": "code",
      "execution_count": null,
      "metadata": {
        "colab": {
          "base_uri": "https://localhost:8080/"
        },
        "id": "NhimD-Ws3Nnx",
        "outputId": "e69e2f16-b681-4cda-d923-be0993123885"
      },
      "outputs": [
        {
          "output_type": "stream",
          "name": "stdout",
          "text": [
            "5 * 10 = 50\n"
          ]
        }
      ],
      "source": [
        "a, b = 5, 10\n",
        "print('%d * %d = %d' % (a, b, a * b))"
      ]
    },
    {
      "cell_type": "markdown",
      "source": [
        "Python 3.6以后，格式化字符串还有更为简洁的书写方式，就是在字符串前加上字母f，我们可以使用下面的语法糖来简化的代码。"
      ],
      "metadata": {
        "id": "IBPP8ZFS4FNT"
      }
    },
    {
      "cell_type": "code",
      "source": [
        "a, b = 5, 10\n",
        "print(f'{a} * {b} = {a * b}')"
      ],
      "metadata": {
        "colab": {
          "base_uri": "https://localhost:8080/"
        },
        "id": "BBUHzqVs39q5",
        "outputId": "2cc56b06-4277-4e09-d35b-b0ea25e92087"
      },
      "execution_count": null,
      "outputs": [
        {
          "output_type": "stream",
          "name": "stdout",
          "text": [
            "5 * 10 = 50\n"
          ]
        }
      ]
    },
    {
      "cell_type": "code",
      "source": [
        "class Student(object):\n",
        "\n",
        "    # __init__是一个特殊方法用于在创建对象时进行初始化操作\n",
        "    # 通过这个方法我们可以为学生对象绑定name和age两个属性\n",
        "    def __init__(self, name, age):\n",
        "        self.name = name\n",
        "        self.age = age\n",
        "\n",
        "    def study(self, course_name):\n",
        "        print('%s正在学习%s.' % (self.name, course_name))\n",
        "\n",
        "    # PEP 8要求标识符的名字用全小写多个单词用下划线连接\n",
        "    # 但是部分程序员和公司更倾向于使用驼峰命名法(驼峰标识)\n",
        "    def watch_movie(self):\n",
        "        if self.age < 18:\n",
        "            print('%s只能观看《熊出没》.' % self.name)\n",
        "        else:\n",
        "            print('%s正在观看岛国爱情大电影.' % self.name)"
      ],
      "metadata": {
        "id": "vGm0J2f9WIdF"
      },
      "execution_count": 1,
      "outputs": []
    },
    {
      "cell_type": "code",
      "source": [
        "help(Student)"
      ],
      "metadata": {
        "id": "-cS-XVcHWNX0",
        "outputId": "16216c5d-e564-4c19-9d7f-b72f09bf78a1",
        "colab": {
          "base_uri": "https://localhost:8080/"
        }
      },
      "execution_count": 2,
      "outputs": [
        {
          "output_type": "stream",
          "name": "stdout",
          "text": [
            "Help on class Student in module __main__:\n",
            "\n",
            "class Student(builtins.object)\n",
            " |  Student(name, age)\n",
            " |  \n",
            " |  Methods defined here:\n",
            " |  \n",
            " |  __init__(self, name, age)\n",
            " |      Initialize self.  See help(type(self)) for accurate signature.\n",
            " |  \n",
            " |  study(self, course_name)\n",
            " |  \n",
            " |  watch_movie(self)\n",
            " |      # PEP 8要求标识符的名字用全小写多个单词用下划线连接\n",
            " |      # 但是部分程序员和公司更倾向于使用驼峰命名法(驼峰标识)\n",
            " |  \n",
            " |  ----------------------------------------------------------------------\n",
            " |  Data descriptors defined here:\n",
            " |  \n",
            " |  __dict__\n",
            " |      dictionary for instance variables (if defined)\n",
            " |  \n",
            " |  __weakref__\n",
            " |      list of weak references to the object (if defined)\n",
            "\n"
          ]
        }
      ]
    },
    {
      "cell_type": "code",
      "source": [
        "def main():\n",
        "    # 创建学生对象并指定姓名和年龄\n",
        "    stu1 = Student('骆昊', 38)\n",
        "    # 给对象发study消息\n",
        "    stu1.study('Python程序设计')\n",
        "    # 给对象发watch_av消息\n",
        "    stu1.watch_movie()\n",
        "    stu2 = Student('王大锤', 15)\n",
        "    stu2.study('思想品德')\n",
        "    stu2.watch_movie()\n",
        "\n",
        "\n",
        "if __name__ == '__main__':\n",
        "    main()"
      ],
      "metadata": {
        "id": "Z8i8jTkzWTAs",
        "outputId": "7d186ba1-9dec-469b-e7e9-d246d61ffe48",
        "colab": {
          "base_uri": "https://localhost:8080/"
        }
      },
      "execution_count": 3,
      "outputs": [
        {
          "output_type": "stream",
          "name": "stdout",
          "text": [
            "骆昊正在学习Python程序设计.\n",
            "骆昊正在观看岛国爱情大电影.\n",
            "王大锤正在学习思想品德.\n",
            "王大锤只能观看《熊出没》.\n"
          ]
        }
      ]
    },
    {
      "cell_type": "code",
      "source": [
        "__name__"
      ],
      "metadata": {
        "id": "nsKSzkKHXies",
        "outputId": "a74650f3-fe1c-413e-95c2-2dedcc82c362",
        "colab": {
          "base_uri": "https://localhost:8080/",
          "height": 36
        }
      },
      "execution_count": 4,
      "outputs": [
        {
          "output_type": "execute_result",
          "data": {
            "application/vnd.google.colaboratory.intrinsic+json": {
              "type": "string"
            },
            "text/plain": [
              "'__main__'"
            ]
          },
          "metadata": {},
          "execution_count": 4
        }
      ]
    },
    {
      "cell_type": "code",
      "source": [
        "stu2 = Student('骆昊2', 13)"
      ],
      "metadata": {
        "id": "_YMb0wehXlaV"
      },
      "execution_count": 5,
      "outputs": []
    },
    {
      "cell_type": "code",
      "source": [
        "stu2.age"
      ],
      "metadata": {
        "id": "OqwGA0QkX14d",
        "outputId": "7b30e249-fafd-428f-c6ca-b30cb208ea61",
        "colab": {
          "base_uri": "https://localhost:8080/"
        }
      },
      "execution_count": 6,
      "outputs": [
        {
          "output_type": "execute_result",
          "data": {
            "text/plain": [
              "13"
            ]
          },
          "metadata": {},
          "execution_count": 6
        }
      ]
    },
    {
      "cell_type": "code",
      "source": [
        "from time import sleep\n",
        "\n",
        "\n",
        "class Clock(object):\n",
        "    \"\"\"数字时钟\"\"\"\n",
        "\n",
        "    def __init__(self, hour=0, minute=0, second=0):\n",
        "        \"\"\"初始化方法\n",
        "\n",
        "        :param hour: 时\n",
        "        :param minute: 分\n",
        "        :param second: 秒\n",
        "        \"\"\"\n",
        "        self._hour = hour\n",
        "        self._minute = minute\n",
        "        self._second = second\n",
        "\n",
        "    def run(self):\n",
        "        \"\"\"走字\"\"\"\n",
        "        self._second += 1\n",
        "        if self._second == 60:\n",
        "            self._second = 0\n",
        "            self._minute += 1\n",
        "            if self._minute == 60:\n",
        "                self._minute = 0\n",
        "                self._hour += 1\n",
        "                if self._hour == 24:\n",
        "                    self._hour = 0\n",
        "\n",
        "    def show(self):\n",
        "        \"\"\"显示时间\"\"\"\n",
        "        return '%02d:%02d:%02d' % \\\n",
        "               (self._hour, self._minute, self._second)\n",
        "\n",
        "\n",
        "def main():\n",
        "    clock = Clock(23, 59, 58)\n",
        "    while True:\n",
        "        print(clock.show())\n",
        "        sleep(1)\n",
        "        clock.run()\n",
        "\n",
        "\n",
        "if __name__ == '__main__':\n",
        "    main()"
      ],
      "metadata": {
        "id": "fPom3YlqX7_k"
      },
      "execution_count": null,
      "outputs": []
    },
    {
      "cell_type": "code",
      "source": [
        "from math import sqrt\n",
        "\n",
        "\n",
        "class Point(object):\n",
        "\n",
        "    def __init__(self, x=0, y=0):\n",
        "        \"\"\"初始化方法\n",
        "        \n",
        "        :param x: 横坐标\n",
        "        :param y: 纵坐标\n",
        "        \"\"\"\n",
        "        self.x = x\n",
        "        self.y = y\n",
        "\n",
        "    def move_to(self, x, y):\n",
        "        \"\"\"移动到指定位置\n",
        "        \n",
        "        :param x: 新的横坐标\n",
        "        \"param y: 新的纵坐标\n",
        "        \"\"\"\n",
        "        self.x = x\n",
        "        self.y = y\n",
        "\n",
        "    def move_by(self, dx, dy):\n",
        "        \"\"\"移动指定的增量\n",
        "        \n",
        "        :param dx: 横坐标的增量\n",
        "        \"param dy: 纵坐标的增量\n",
        "        \"\"\"\n",
        "        self.x += dx\n",
        "        self.y += dy\n",
        "\n",
        "    def distance_to(self, other):\n",
        "        \"\"\"计算与另一个点的距离\n",
        "        \n",
        "        :param other: 另一个点\n",
        "        \"\"\"\n",
        "        dx = self.x - other.x\n",
        "        dy = self.y - other.y\n",
        "        return sqrt(dx ** 2 + dy ** 2)\n",
        "\n",
        "    def __str__(self):\n",
        "        return '(%s, %s)' % (str(self.x), str(self.y))\n",
        "\n",
        "\n",
        "def main():\n",
        "    p1 = Point(3, 5)\n",
        "    p2 = Point()\n",
        "    print(p1)\n",
        "    print(p2)\n",
        "    p2.move_by(-1, 2)\n",
        "    print(p2)\n",
        "    print(p1.distance_to(p2))\n",
        "\n",
        "\n",
        "if __name__ == '__main__':\n",
        "    main()"
      ],
      "metadata": {
        "id": "LBUlbHE6ZOZH",
        "outputId": "b629e04a-4a50-41ae-8651-b9eda6a73e68",
        "colab": {
          "base_uri": "https://localhost:8080/"
        }
      },
      "execution_count": 8,
      "outputs": [
        {
          "output_type": "stream",
          "name": "stdout",
          "text": [
            "(3, 5)\n",
            "(0, 0)\n",
            "(-1, 2)\n",
            "5.0\n"
          ]
        }
      ]
    },
    {
      "cell_type": "code",
      "source": [
        "class Person(object):\n",
        "\n",
        "    def __init__(self, name, age):\n",
        "        self._name = name\n",
        "        self._age = age\n",
        "\n",
        "    # 访问器 - getter方法\n",
        "    @property\n",
        "    def name(self):\n",
        "        return self._name\n",
        "\n",
        "    # 访问器 - getter方法\n",
        "    @property\n",
        "    def age(self):\n",
        "        return self._age\n",
        "\n",
        "    # 修改器 - setter方法\n",
        "    @age.setter\n",
        "    def age(self, age):\n",
        "        self._age = age\n",
        "\n",
        "    def play(self):\n",
        "        if self._age <= 16:\n",
        "            print('%s正在玩飞行棋.' % self._name)\n",
        "        else:\n",
        "            print('%s正在玩斗地主.' % self._name)\n",
        "\n",
        "\n",
        "def main():\n",
        "    person = Person('王大锤', 12)\n",
        "    person.play()\n",
        "    person.age = 22\n",
        "    person.play()\n",
        "    # person.name = '白元芳'  # AttributeError: can't set attribute\n",
        "\n",
        "\n",
        "if __name__ == '__main__':\n",
        "    main()"
      ],
      "metadata": {
        "id": "bdG_KuxXaJTU",
        "outputId": "14e452a8-4ead-4ba0-fcce-39689b596d39",
        "colab": {
          "base_uri": "https://localhost:8080/"
        }
      },
      "execution_count": 21,
      "outputs": [
        {
          "output_type": "stream",
          "name": "stdout",
          "text": [
            "王大锤正在玩飞行棋.\n",
            "王大锤正在玩斗地主.\n"
          ]
        }
      ]
    },
    {
      "cell_type": "code",
      "source": [
        "person.age"
      ],
      "metadata": {
        "id": "1kJ33AIQbx_4"
      },
      "execution_count": null,
      "outputs": []
    },
    {
      "cell_type": "code",
      "source": [
        "class Person(object):\n",
        "\n",
        "    # 限定Person对象只能绑定_name, _age和_gender属性\n",
        "    __slots__ = ('_name', '_age', '_gender')\n",
        "\n",
        "    def __init__(self, name, age):\n",
        "        self._name = name\n",
        "        self._age = age\n",
        "\n",
        "    @property\n",
        "    def name(self):\n",
        "        return self._name\n",
        "\n",
        "    @property\n",
        "    def age(self):\n",
        "        return self._age\n",
        "\n",
        "    @age.setter\n",
        "    def age(self, age):\n",
        "        self._age = age\n",
        "\n",
        "    def play(self):\n",
        "        if self._age <= 16:\n",
        "            print('%s正在玩飞行棋.' % self._name)\n",
        "        else:\n",
        "            print('%s正在玩斗地主.' % self._name)\n",
        "\n",
        "\n",
        "def main():\n",
        "    person = Person('王大锤', 22)\n",
        "    person.play()\n",
        "    person._gender = '男'\n",
        "    # AttributeError: 'Person' object has no attribute '_is_gay'\n",
        "    # person._is_gay = True"
      ],
      "metadata": {
        "id": "KNwy1JI8a71G"
      },
      "execution_count": 10,
      "outputs": []
    },
    {
      "cell_type": "code",
      "source": [
        "main()"
      ],
      "metadata": {
        "id": "8KHyqat9bHGF",
        "outputId": "77b3d1a3-982e-4e08-e9aa-701b2aefa2ee",
        "colab": {
          "base_uri": "https://localhost:8080/"
        }
      },
      "execution_count": 11,
      "outputs": [
        {
          "output_type": "stream",
          "name": "stdout",
          "text": [
            "王大锤正在玩斗地主.\n"
          ]
        }
      ]
    },
    {
      "cell_type": "code",
      "source": [
        "person.name"
      ],
      "metadata": {
        "id": "HZH5ibmxbIsN"
      },
      "execution_count": null,
      "outputs": []
    },
    {
      "cell_type": "code",
      "source": [
        "from math import sqrt\n",
        "\n",
        "\n",
        "class Triangle(object):\n",
        "\n",
        "    def __init__(self, a, b, c):\n",
        "        self._a = a\n",
        "        self._b = b\n",
        "        self._c = c\n",
        "\n",
        "    @staticmethod\n",
        "    def is_valid(a, b, c):\n",
        "        return a + b > c and b + c > a and a + c > b\n",
        "\n",
        "    def perimeter(self):\n",
        "        return self._a + self._b + self._c\n",
        "\n",
        "    def area(self):\n",
        "        half = self.perimeter() / 2\n",
        "        return sqrt(half * (half - self._a) *\n",
        "                    (half - self._b) * (half - self._c))\n",
        "\n",
        "\n",
        "def main():\n",
        "    a, b, c = 3, 4, 5\n",
        "    # 静态方法和类方法都是通过给类发消息来调用的\n",
        "    if Triangle.is_valid(a, b, c):\n",
        "        t = Triangle(a, b, c)\n",
        "        print(t.perimeter())\n",
        "        # 也可以通过给类发消息来调用对象方法但是要传入接收消息的对象作为参数\n",
        "        # print(Triangle.perimeter(t))\n",
        "        print(t.area())\n",
        "        # print(Triangle.area(t))\n",
        "    else:\n",
        "        print('无法构成三角形.')\n",
        "\n",
        "\n",
        "if __name__ == '__main__':\n",
        "    main()"
      ],
      "metadata": {
        "id": "8UuM1Fj3bR8s",
        "outputId": "96405a69-fdc4-49be-fa9a-1733589726c4",
        "colab": {
          "base_uri": "https://localhost:8080/"
        }
      },
      "execution_count": 22,
      "outputs": [
        {
          "output_type": "stream",
          "name": "stdout",
          "text": [
            "12\n",
            "6.0\n"
          ]
        }
      ]
    },
    {
      "cell_type": "code",
      "source": [
        "class Person(object):\n",
        "    \"\"\"人\"\"\"\n",
        "\n",
        "    def __init__(self, name, age):\n",
        "        self._name = name\n",
        "        self._age = age\n",
        "\n",
        "    @property\n",
        "    def name(self):\n",
        "        return self._name\n",
        "\n",
        "    @property\n",
        "    def age(self):\n",
        "        return self._age\n",
        "\n",
        "    @age.setter\n",
        "    def age(self, age):\n",
        "        self._age = age\n",
        "\n",
        "    def play(self):\n",
        "        print('%s正在愉快的玩耍.' % self._name)\n",
        "\n",
        "    def watch_av(self):\n",
        "        if self._age >= 18:\n",
        "            print('%s正在观看爱情动作片.' % self._name)\n",
        "        else:\n",
        "            print('%s只能观看《熊出没》.' % self._name)\n",
        "\n",
        "\n",
        "class Student(Person):\n",
        "    \"\"\"学生\"\"\"\n",
        "\n",
        "    def __init__(self, name, age, grade):\n",
        "        super().__init__(name, age)\n",
        "        self._grade = grade\n",
        "\n",
        "    @property\n",
        "    def grade(self):\n",
        "        return self._grade\n",
        "\n",
        "    @grade.setter\n",
        "    def grade(self, grade):\n",
        "        self._grade = grade\n",
        "\n",
        "    def study(self, course):\n",
        "        print('%s的%s正在学习%s.' % (self._grade, self._name, course))\n",
        "\n",
        "\n",
        "class Teacher(Person):\n",
        "    \"\"\"老师\"\"\"\n",
        "\n",
        "    def __init__(self, name, age, title):\n",
        "        super().__init__(name, age)\n",
        "        self._title = title\n",
        "\n",
        "    @property\n",
        "    def title(self):\n",
        "        return self._title\n",
        "\n",
        "    @title.setter\n",
        "    def title(self, title):\n",
        "        self._title = title\n",
        "\n",
        "    def teach(self, course):\n",
        "        print('%s%s正在讲%s.' % (self._name, self._title, course))\n",
        "\n",
        "\n",
        "def main():\n",
        "    stu = Student('王大锤', 15, '初三')\n",
        "    stu.study('数学')\n",
        "    stu.watch_av()\n",
        "    t = Teacher('骆昊', 38, '砖家')\n",
        "    t.teach('Python程序设计')\n",
        "    t.watch_av()\n",
        "\n",
        "\n",
        "if __name__ == '__main__':\n",
        "    main()"
      ],
      "metadata": {
        "id": "PKmMASkgfLBE",
        "outputId": "a2e5dd7a-0a8f-47e1-aaee-2a0fe5ab49e4",
        "colab": {
          "base_uri": "https://localhost:8080/"
        }
      },
      "execution_count": 23,
      "outputs": [
        {
          "output_type": "stream",
          "name": "stdout",
          "text": [
            "初三的王大锤正在学习数学.\n",
            "王大锤只能观看《熊出没》.\n",
            "骆昊砖家正在讲Python程序设计.\n",
            "骆昊正在观看爱情动作片.\n"
          ]
        }
      ]
    }
  ]
}