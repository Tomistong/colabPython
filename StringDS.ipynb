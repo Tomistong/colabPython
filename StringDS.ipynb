{
  "nbformat": 4,
  "nbformat_minor": 0,
  "metadata": {
    "colab": {
      "name": "StringDS.ipynb",
      "provenance": [],
      "authorship_tag": "ABX9TyPT5qmljB0fzuGVBcnmcef9",
      "include_colab_link": true
    },
    "kernelspec": {
      "name": "python3",
      "display_name": "Python 3"
    },
    "language_info": {
      "name": "python"
    }
  },
  "cells": [
    {
      "cell_type": "markdown",
      "metadata": {
        "id": "view-in-github",
        "colab_type": "text"
      },
      "source": [
        "<a href=\"https://colab.research.google.com/github/Tomistong/colabPython/blob/main/StringDS.ipynb\" target=\"_parent\"><img src=\"https://colab.research.google.com/assets/colab-badge.svg\" alt=\"Open In Colab\"/></a>"
      ]
    },
    {
      "cell_type": "code",
      "execution_count": 1,
      "metadata": {
        "colab": {
          "base_uri": "https://localhost:8080/"
        },
        "id": "NhimD-Ws3Nnx",
        "outputId": "e69e2f16-b681-4cda-d923-be0993123885"
      },
      "outputs": [
        {
          "output_type": "stream",
          "name": "stdout",
          "text": [
            "5 * 10 = 50\n"
          ]
        }
      ],
      "source": [
        "a, b = 5, 10\n",
        "print('%d * %d = %d' % (a, b, a * b))"
      ]
    },
    {
      "cell_type": "markdown",
      "source": [
        "Python 3.6以后，格式化字符串还有更为简洁的书写方式，就是在字符串前加上字母f，我们可以使用下面的语法糖来简化上面的代码。"
      ],
      "metadata": {
        "id": "IBPP8ZFS4FNT"
      }
    },
    {
      "cell_type": "code",
      "source": [
        "a, b = 5, 10\n",
        "print(f'{a} * {b} = {a * b}')"
      ],
      "metadata": {
        "colab": {
          "base_uri": "https://localhost:8080/"
        },
        "id": "BBUHzqVs39q5",
        "outputId": "2cc56b06-4277-4e09-d35b-b0ea25e92087"
      },
      "execution_count": 2,
      "outputs": [
        {
          "output_type": "stream",
          "name": "stdout",
          "text": [
            "5 * 10 = 50\n"
          ]
        }
      ]
    }
  ]
}